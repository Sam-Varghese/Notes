{
 "metadata": {
  "language_info": {
   "codemirror_mode": {
    "name": "ipython",
    "version": 3
   },
   "file_extension": ".py",
   "mimetype": "text/x-python",
   "name": "python",
   "nbconvert_exporter": "python",
   "pygments_lexer": "ipython3",
   "version": "3.8.5-final"
  },
  "orig_nbformat": 2,
  "kernelspec": {
   "name": "python3",
   "display_name": "Python 3",
   "language": "python"
  }
 },
 "nbformat": 4,
 "nbformat_minor": 2,
 "cells": [
  {
   "source": [
    "<div style='text-align:center'><span style='color:gold;font-family:georgia;font-size:2em'>My SQL Notes</span></div>"
   ],
   "cell_type": "markdown",
   "metadata": {}
  },
  {
   "source": [
    "****"
   ],
   "cell_type": "markdown",
   "metadata": {}
  },
  {
   "source": [
    "<p align='center'>\n",
    "<img src='http://pngimg.com/uploads/mysql/mysql_PNG23.png'width='200'hieght='200'>\n",
    "</p>"
   ],
   "cell_type": "markdown",
   "metadata": {}
  },
  {
   "source": [
    "*******"
   ],
   "cell_type": "markdown",
   "metadata": {}
  },
  {
   "source": [
    "<div style='text-align:center'><span style='color:yellow;font-family=Georgia;font-size:2em;'>Connectivity Part</span></div>"
   ],
   "cell_type": "markdown",
   "metadata": {}
  },
  {
   "source": [
    "****"
   ],
   "cell_type": "markdown",
   "metadata": {}
  },
  {
   "source": [
    "<div><span style='color:orange; font-size:2em;'>Connecting to SQL>>>></span></div>\n",
    "\n",
    "* Firstly start with [this.](https://youtu.be//HZU0JRwv6AE)"
   ],
   "cell_type": "markdown",
   "metadata": {}
  },
  {
   "source": [
    "****"
   ],
   "cell_type": "markdown",
   "metadata": {}
  },
  {
   "cell_type": "code",
   "execution_count": null,
   "metadata": {},
   "outputs": [],
   "source": [
    "import mysql.connector\n",
    "import random\n",
    "con=mysql.connector.connect(host='localhost',user='root',password='root')"
   ]
  },
  {
   "source": [
    "****"
   ],
   "cell_type": "markdown",
   "metadata": {}
  },
  {
   "source": [
    "<div><span style='color:orange; font-size:2em;'>Checking for successful connection>>></div></span>"
   ],
   "cell_type": "markdown",
   "metadata": {}
  },
  {
   "source": [
    "****"
   ],
   "cell_type": "markdown",
   "metadata": {}
  },
  {
   "cell_type": "code",
   "execution_count": null,
   "metadata": {},
   "outputs": [],
   "source": [
    "if con.is_connected():\n",
    "    print('Successful connection sir.')\n",
    "else:\n",
    "    print('Connection failed sir.')"
   ]
  },
  {
   "source": [
    "****"
   ],
   "cell_type": "markdown",
   "metadata": {}
  },
  {
   "source": [
    "<div><span style='color:orange; font-size:2em;'>Creating a cursor object>>></div></span>"
   ],
   "cell_type": "markdown",
   "metadata": {}
  },
  {
   "source": [
    "****"
   ],
   "cell_type": "markdown",
   "metadata": {}
  },
  {
   "cell_type": "code",
   "execution_count": null,
   "metadata": {},
   "outputs": [],
   "source": [
    "cur=con.cursor(buffered=True)#You dont use buffered"
   ]
  },
  {
   "source": [
    "****"
   ],
   "cell_type": "markdown",
   "metadata": {}
  },
  {
   "source": [
    "<div style='text-align:center'><span style='color:yellow; font-size:2em;font-family:Georgia;'>SQL Queries</span></dev>"
   ],
   "cell_type": "markdown",
   "metadata": {}
  },
  {
   "source": [
    "****"
   ],
   "cell_type": "markdown",
   "metadata": {}
  },
  {
   "source": [
    "<div><span style='color:orange;font-size:2em;'>Creating a database>>></span></div>"
   ],
   "cell_type": "markdown",
   "metadata": {}
  },
  {
   "source": [
    "****"
   ],
   "cell_type": "markdown",
   "metadata": {}
  },
  {
   "source": [
    "try:\n",
    "    cur.execute('drop database sql_notes')\n",
    "except Exception:\n",
    "    pass\n",
    "\n",
    "cur.execute('create database if not exists sql_notes')"
   ],
   "cell_type": "code",
   "metadata": {},
   "execution_count": null,
   "outputs": []
  },
  {
   "cell_type": "code",
   "execution_count": null,
   "metadata": {},
   "outputs": [],
   "source": []
  },
  {
   "source": [
    "****"
   ],
   "cell_type": "markdown",
   "metadata": {}
  },
  {
   "source": [
    "<div><span style='color:orange;font-size:2em;'>Making a table>>></span></div>"
   ],
   "cell_type": "markdown",
   "metadata": {}
  },
  {
   "source": [
    "****"
   ],
   "cell_type": "markdown",
   "metadata": {}
  },
  {
   "cell_type": "code",
   "execution_count": null,
   "metadata": {},
   "outputs": [],
   "source": [
    "cur.execute('use sql_notes')"
   ]
  },
  {
   "cell_type": "code",
   "execution_count": null,
   "metadata": {},
   "outputs": [],
   "source": [
    "cur.execute('Create table if not exists sql_note\\\n",
    "    (Name varchar(20),\\\n",
    "        Class int)')"
   ]
  },
  {
   "source": [
    "****"
   ],
   "cell_type": "markdown",
   "metadata": {}
  },
  {
   "source": [
    "</div><span style='color:orange;font-size:2em'>Inserting values>>></div></span>"
   ],
   "cell_type": "markdown",
   "metadata": {}
  },
  {
   "source": [
    "****"
   ],
   "cell_type": "markdown",
   "metadata": {}
  },
  {
   "cell_type": "code",
   "execution_count": null,
   "metadata": {},
   "outputs": [],
   "source": [
    "count=0\n",
    "\n",
    "def random_names():\n",
    "    l=random.randint(5,10)\n",
    "    name=''\n",
    "    while len(name)<l:\n",
    "        l1=random.randint(97,122)\n",
    "        name=name+chr(l1)\n",
    "    return name\n",
    "\n",
    "def random_class():\n",
    "    return random.randint(1,12)\n",
    "\n",
    "while count<100:\n",
    "    query=\"insert into sql_note(Name,Class) values('{}',{})\".format(random_names(),random_class())\n",
    "    cur.execute(query)\n",
    "    print(query)\n",
    "    count+=1\n",
    "    con.commit()#Very Important"
   ]
  },
  {
   "source": [
    "****"
   ],
   "cell_type": "markdown",
   "metadata": {}
  },
  {
   "source": [
    "<div><span style='color:orange;font-size:2em;'>Accessing all data from table>>></span></span>"
   ],
   "cell_type": "markdown",
   "metadata": {}
  },
  {
   "source": [
    "****"
   ],
   "cell_type": "markdown",
   "metadata": {}
  },
  {
   "cell_type": "code",
   "execution_count": null,
   "metadata": {},
   "outputs": [],
   "source": [
    "cur.execute('select * from sql_note')"
   ]
  },
  {
   "source": [
    "****"
   ],
   "cell_type": "markdown",
   "metadata": {}
  },
  {
   "source": [
    "* <div><span style='color:orange;font-size:1.5em'>fetchall Method>>></div></span><br>\n",
    "Used in fetching all of the data."
   ],
   "cell_type": "markdown",
   "metadata": {}
  },
  {
   "source": [
    "****"
   ],
   "cell_type": "markdown",
   "metadata": {}
  },
  {
   "cell_type": "code",
   "execution_count": null,
   "metadata": {},
   "outputs": [],
   "source": [
    "data=cur.fetchall()"
   ]
  },
  {
   "cell_type": "code",
   "execution_count": null,
   "metadata": {},
   "outputs": [],
   "source": [
    "len(data)"
   ]
  },
  {
   "source": [
    "****"
   ],
   "cell_type": "markdown",
   "metadata": {}
  },
  {
   "source": [
    "* <div><span style='color:orange;font-size:1.5em'>fetchone method>>></div></span><br>\n",
    "Used to fetch the first record."
   ],
   "cell_type": "markdown",
   "metadata": {}
  },
  {
   "source": [
    "****"
   ],
   "cell_type": "markdown",
   "metadata": {}
  },
  {
   "cell_type": "code",
   "execution_count": null,
   "metadata": {},
   "outputs": [],
   "source": [
    "cur.execute('select * from sql_note')\n",
    "data=cur.fetchone()"
   ]
  },
  {
   "cell_type": "code",
   "execution_count": null,
   "metadata": {},
   "outputs": [],
   "source": [
    "print(data)"
   ]
  },
  {
   "source": [
    "****"
   ],
   "cell_type": "markdown",
   "metadata": {}
  },
  {
   "source": [
    "* <div><span style='color:orange;font-size:1.5em'>fetchmany Function>>></div></span><br>This function enables us to extract as many rows as we want to fetch."
   ],
   "cell_type": "markdown",
   "metadata": {}
  },
  {
   "source": [
    "****"
   ],
   "cell_type": "markdown",
   "metadata": {}
  },
  {
   "cell_type": "code",
   "execution_count": null,
   "metadata": {},
   "outputs": [],
   "source": [
    "cur.execute('select * from sql_note')"
   ]
  },
  {
   "cell_type": "code",
   "execution_count": null,
   "metadata": {},
   "outputs": [],
   "source": [
    "#\n",
    "data=cur.fetchmany(2)"
   ]
  },
  {
   "cell_type": "code",
   "execution_count": null,
   "metadata": {},
   "outputs": [],
   "source": [
    "data"
   ]
  },
  {
   "source": [
    "****"
   ],
   "cell_type": "markdown",
   "metadata": {}
  },
  {
   "source": [
    "* <div><span style='color:orange;font-size:1.5em'>rowcount Function>>></div></span><br>\n",
    "This function enables us to count number of rows in cur object."
   ],
   "cell_type": "markdown",
   "metadata": {}
  },
  {
   "source": [
    "****"
   ],
   "cell_type": "markdown",
   "metadata": {}
  },
  {
   "cell_type": "code",
   "execution_count": null,
   "metadata": {},
   "outputs": [],
   "source": [
    "cur.execute('select * from sql_note')\n",
    "data=cur.rowcount"
   ]
  },
  {
   "cell_type": "code",
   "execution_count": null,
   "metadata": {},
   "outputs": [],
   "source": [
    "data"
   ]
  },
  {
   "source": [
    "******"
   ],
   "cell_type": "markdown",
   "metadata": {}
  },
  {
   "source": [
    "<div style='text-align:center'><span style='color:yellow;font-size:2em;font-family:Georgia;'>ADVANCE  SQL</div></span>"
   ],
   "cell_type": "markdown",
   "metadata": {}
  },
  {
   "source": [
    "<p align='center'>\n",
    "<img src='https://gscollectibles.gr/wp-content/uploads/2017/10/x_ss300172_a.jpg'width='600'hieght='300'>\n",
    "</p>"
   ],
   "cell_type": "markdown",
   "metadata": {}
  },
  {
   "source": [
    "****"
   ],
   "cell_type": "markdown",
   "metadata": {}
  },
  {
   "source": [
    "<div><span style='color:orange;font-size:2em'>Types of Queries>>></div></span>"
   ],
   "cell_type": "markdown",
   "metadata": {}
  },
  {
   "source": [
    "****"
   ],
   "cell_type": "markdown",
   "metadata": {}
  },
  {
   "source": [
    "Queries are of mainly 2 types:-<br><br>\n",
    "\n",
    "* DDL Commands\n",
    "* DML Commands"
   ],
   "cell_type": "markdown",
   "metadata": {}
  },
  {
   "source": [
    "<div style='text-align:center;'><span style='color:gold;'>DDL Commands</div></span>\n",
    "\n",
    "* These are those commands that have the ability to change the structure of the table.\n",
    "* All commands under this category are auto comiited.\n",
    "\n",
    "Commands that fall under this category:-\n",
    "\n",
    "* CREATE\n",
    "* ALTER\n",
    "* DROP"
   ],
   "cell_type": "markdown",
   "metadata": {}
  },
  {
   "source": [
    "<div style='text-align:center'><span style='color:gold;'>DML Commands</div></span>\n",
    "\n",
    "* All commands that have the ability to modify the database comes under these category.\n",
    "* These commands dont get auto commited so we need to commit them personally.\n",
    "\n",
    "Commands that fall under this category:-\n",
    "\n",
    "* INSERT\n",
    "* UPDATE\n",
    "* DELETE"
   ],
   "cell_type": "markdown",
   "metadata": {}
  },
  {
   "source": [
    "****"
   ],
   "cell_type": "markdown",
   "metadata": {}
  },
  {
   "source": [
    "<div><span style='color:orange;font-size:2em'>Some Important Terms>>></div></span>"
   ],
   "cell_type": "markdown",
   "metadata": {}
  },
  {
   "source": [
    "****"
   ],
   "cell_type": "markdown",
   "metadata": {}
  },
  {
   "source": [
    "<div style='text-align:center;'><span style='color:gold;'>Some Important Terms</div></span>\n",
    "\n",
    "* <div><span style='color:gold;'>Realtion</div></span>A table containing logically related data wherein all the rows are distinct and ordering of rows and columns is immaterialistic.\n",
    "\n",
    "* <div><span style='color:gold;'>Domain</div></span>This is a pool of values from which the actual values appearing in a given column are drawn.\n",
    "\n",
    "* <div><span style='color:gold;'>Tuple</div></span>Row of a relation.\n",
    "\n",
    "* <div><span style='color:gold;'>Attribute</div></span>A column of a relation.\n",
    "\n",
    "* <div><span style='color:gold;'>Degree</div></span>Number of attributes in a relation.\n",
    "\n",
    "* <div><span style='color:gold;'>Cardinality</div></span>Number of tuples in a relation.\n",
    "\n",
    "* <div><span style='color:gold;'>View</div></span>Virtual table that does not exist in its own right but is insted derived from one or more underlying base tables.\n",
    "\n",
    "* <div><span style='color:gold;'>Primary Key</div></span>Set of one or more attributes that can uniquely identify the tuples within the relation.\n",
    "\n",
    "* <div><span style='color:gold;'>Candidate Key</div></span>All attribute combinations inside a relation that can serve as candidate keys as these are the candidates for primary key position.\n",
    "\n",
    "* <div><span style='color:gold;'>Alternate Key</div></span>A candidate key that is not primary key is called an alternate key.\n",
    "\n",
    "* <div><span style='color:gold;'>Foreign Key</div></span>A non key attribute whose value is derived from the primary key of of some other table is known as foreign key.\n"
   ],
   "cell_type": "markdown",
   "metadata": {}
  },
  {
   "source": [
    "****"
   ],
   "cell_type": "markdown",
   "metadata": {}
  },
  {
   "source": [
    "My SQL is an Open Source \n",
    "<div><span style='color:gold'> R </div></span>elational\n",
    "<div><span style='color:gold'> D </div></span>atabase\n",
    "<div><span style='color:gold'> M </div></span>anagement\n",
    "<div><span style='color:gold'> S </div></span>ystem"
   ],
   "cell_type": "markdown",
   "metadata": {}
  },
  {
   "source": [
    "****"
   ],
   "cell_type": "markdown",
   "metadata": {}
  },
  {
   "source": [
    "<div><span style='color:orange;font-size:2em;'>Creating Database in SQL if it doesnt exists>>></div></span>"
   ],
   "cell_type": "markdown",
   "metadata": {}
  },
  {
   "source": [
    "****"
   ],
   "cell_type": "markdown",
   "metadata": {}
  },
  {
   "cell_type": "code",
   "execution_count": null,
   "metadata": {},
   "outputs": [],
   "source": [
    "cur.execute('Create database if not exists sql_notes')"
   ]
  },
  {
   "source": [
    "****"
   ],
   "cell_type": "markdown",
   "metadata": {}
  },
  {
   "source": [
    "<div><span style='color:orange;font-size:2em;'>Selecting a database>>></div></span>"
   ],
   "cell_type": "markdown",
   "metadata": {}
  },
  {
   "source": [
    "****"
   ],
   "cell_type": "markdown",
   "metadata": {}
  },
  {
   "cell_type": "code",
   "execution_count": null,
   "metadata": {},
   "outputs": [],
   "source": [
    "cur.execute('use sql_notes')"
   ]
  },
  {
   "source": [
    "****"
   ],
   "cell_type": "markdown",
   "metadata": {}
  },
  {
   "source": [
    "<div><span style='color:orange;font-size:2em;'>Creating a table if it doesnt exists>></div></span>"
   ],
   "cell_type": "markdown",
   "metadata": {}
  },
  {
   "source": [
    "****"
   ],
   "cell_type": "markdown",
   "metadata": {}
  },
  {
   "cell_type": "code",
   "execution_count": null,
   "metadata": {},
   "outputs": [],
   "source": [
    "cur.execute('Create table if not exists sql_note\\\n",
    "    (Name varchar(20),\\\n",
    "        Class int)')"
   ]
  },
  {
   "source": [
    "****"
   ],
   "cell_type": "markdown",
   "metadata": {}
  },
  {
   "source": [
    "<div><span style='color:orange;font-size:2em;'>Inserting values in table>>></div></span>"
   ],
   "cell_type": "markdown",
   "metadata": {}
  },
  {
   "source": [
    "****"
   ],
   "cell_type": "markdown",
   "metadata": {}
  },
  {
   "cell_type": "code",
   "execution_count": null,
   "metadata": {},
   "outputs": [],
   "source": [
    "count=0\n",
    "\n",
    "def random_names():\n",
    "    l=random.randint(5,10)\n",
    "    name=''\n",
    "    while len(name)<l:\n",
    "        l1=random.randint(97,122)\n",
    "        name=name+chr(l1)\n",
    "    return name\n",
    "\n",
    "def random_class():\n",
    "    return random.randint(1,12)\n",
    "\n",
    "while count<50:\n",
    "    query=\"insert into sql_note(Name,Class) values('{}',{})\".format(random_names(),random_class())\n",
    "    cur.execute(query)\n",
    "    print(query)\n",
    "    count+=1\n",
    "    con.commit()#Very Important"
   ]
  },
  {
   "source": [
    "****"
   ],
   "cell_type": "markdown",
   "metadata": {}
  },
  {
   "source": [
    "<div><span style='color:orange;font-size:2em;'>Conditional Selection from table>>></div></span>"
   ],
   "cell_type": "markdown",
   "metadata": {}
  },
  {
   "source": [
    "****"
   ],
   "cell_type": "markdown",
   "metadata": {}
  },
  {
   "cell_type": "code",
   "execution_count": null,
   "metadata": {},
   "outputs": [],
   "source": [
    "cur.execute(\"select * from sql_note where Class=12\")\n",
    "\n",
    "data=cur.fetchall()\n",
    "data"
   ]
  },
  {
   "source": [
    "****"
   ],
   "cell_type": "markdown",
   "metadata": {}
  },
  {
   "source": [
    "<div><span style='color:orange;font-size:2em;'>Selecting particular columns from table>>></div></span>"
   ],
   "cell_type": "markdown",
   "metadata": {}
  },
  {
   "source": [
    "****"
   ],
   "cell_type": "markdown",
   "metadata": {}
  },
  {
   "source": [
    "cur.execute('select Name from sql_note')\n",
    "\n",
    "data=cur.fetchall()\n",
    "data"
   ],
   "cell_type": "markdown",
   "metadata": {}
  },
  {
   "source": [
    "****"
   ],
   "cell_type": "markdown",
   "metadata": {}
  },
  {
   "source": [
    "<div><span style='color:orange;font-size:2em;'>Accessing distinct values from a column>>></div></span>"
   ],
   "cell_type": "markdown",
   "metadata": {}
  },
  {
   "source": [
    "****"
   ],
   "cell_type": "markdown",
   "metadata": {}
  },
  {
   "cell_type": "code",
   "execution_count": null,
   "metadata": {},
   "outputs": [],
   "source": [
    "cur.execute('select distinct Class from sql_note')\n",
    "\n",
    "data=cur.fetchall()\n",
    "data"
   ]
  },
  {
   "source": [
    "****"
   ],
   "cell_type": "markdown",
   "metadata": {}
  },
  {
   "source": [
    "<div><span style='color:orange;font-size:2em;'>Getting the description of the table>>></div></span>"
   ],
   "cell_type": "markdown",
   "metadata": {}
  },
  {
   "source": [
    "****"
   ],
   "cell_type": "markdown",
   "metadata": {}
  },
  {
   "cell_type": "code",
   "execution_count": null,
   "metadata": {},
   "outputs": [],
   "source": [
    "cur.execute('desc sql_note')\n",
    "\n",
    "data=cur.fetchall()\n",
    "data"
   ]
  },
  {
   "source": [
    "****"
   ],
   "cell_type": "markdown",
   "metadata": {}
  },
  {
   "source": [
    "<div><span style='color:orange;font-size:2em;'>Performing simple calculations>>></div></span>"
   ],
   "cell_type": "markdown",
   "metadata": {}
  },
  {
   "source": [
    "****"
   ],
   "cell_type": "markdown",
   "metadata": {}
  },
  {
   "cell_type": "code",
   "execution_count": null,
   "metadata": {},
   "outputs": [],
   "source": [
    "cur.execute('select 3*12')\n",
    "\n",
    "cur.fetchall()"
   ]
  },
  {
   "source": [
    "****"
   ],
   "cell_type": "markdown",
   "metadata": {}
  },
  {
   "source": [
    "<div><span style='color:orange;font-size:2em;'>Using table aliases>>></div></span>"
   ],
   "cell_type": "markdown",
   "metadata": {}
  },
  {
   "source": [
    "****"
   ],
   "cell_type": "markdown",
   "metadata": {}
  },
  {
   "cell_type": "code",
   "execution_count": null,
   "metadata": {},
   "outputs": [],
   "source": [
    "cur.execute('select Name as N from sql_note')\n",
    "\n",
    "cur.fetchall()"
   ]
  },
  {
   "source": [
    "****"
   ],
   "cell_type": "markdown",
   "metadata": {}
  },
  {
   "source": [
    "<div><span style='color:orange;font-size:2em;'>BETWEEN keyword >>></div></span>"
   ],
   "cell_type": "markdown",
   "metadata": {}
  },
  {
   "source": [
    "****"
   ],
   "cell_type": "markdown",
   "metadata": {}
  },
  {
   "cell_type": "code",
   "execution_count": null,
   "metadata": {},
   "outputs": [],
   "source": [
    "cur.execute('select * from sql_note where Class between 1 and 5')\n",
    "\n",
    "cur.fetchall()"
   ]
  },
  {
   "source": [
    "****"
   ],
   "cell_type": "markdown",
   "metadata": {}
  },
  {
   "source": [
    "<div><span style='color:orange;font-size:2em;'>Pattern matching in SQL>>>"
   ],
   "cell_type": "markdown",
   "metadata": {}
  },
  {
   "source": [
    "****"
   ],
   "cell_type": "markdown",
   "metadata": {}
  },
  {
   "cell_type": "code",
   "execution_count": null,
   "metadata": {},
   "outputs": [],
   "source": [
    "cur.execute(\"select * from sql_note where Name like 's%'\")\n",
    "\n",
    "cur.fetchall()"
   ]
  },
  {
   "cell_type": "code",
   "execution_count": null,
   "metadata": {},
   "outputs": [],
   "source": [
    "cur.execute(\"select * from sql_note where Name like 's____'\")\n",
    "\n",
    "cur.fetchall()"
   ]
  },
  {
   "source": [
    "****"
   ],
   "cell_type": "markdown",
   "metadata": {}
  },
  {
   "source": [
    "<div><span style='color:orange;font-size:2em;'>Searching for NULL Values >>>"
   ],
   "cell_type": "markdown",
   "metadata": {}
  },
  {
   "source": [
    "****"
   ],
   "cell_type": "markdown",
   "metadata": {}
  },
  {
   "cell_type": "code",
   "execution_count": null,
   "metadata": {},
   "outputs": [],
   "source": [
    "cur.execute('select * from sql_note where Name is NULL')\n",
    "\n",
    "cur.fetchall()"
   ]
  },
  {
   "source": [
    "****"
   ],
   "cell_type": "markdown",
   "metadata": {}
  },
  {
   "source": [
    "<div><span style='color:orange;font-size:2em;'>NOT NULL Condition in table creation >>>"
   ],
   "cell_type": "markdown",
   "metadata": {}
  },
  {
   "source": [
    "****"
   ],
   "cell_type": "markdown",
   "metadata": {}
  },
  {
   "cell_type": "code",
   "execution_count": null,
   "metadata": {},
   "outputs": [],
   "source": [
    "cur.execute('Create table if not exists not_null_table \\\n",
    "    (Name varchar(20) NOT NULL,\\\n",
    "        Class int)')"
   ]
  },
  {
   "source": [
    "****"
   ],
   "cell_type": "markdown",
   "metadata": {}
  },
  {
   "source": [
    "<div><span style='color:orange;font-size:2em;'>Setting a default value during table creation>>>"
   ],
   "cell_type": "markdown",
   "metadata": {}
  },
  {
   "source": [
    "****"
   ],
   "cell_type": "markdown",
   "metadata": {}
  },
  {
   "cell_type": "code",
   "execution_count": null,
   "metadata": {},
   "outputs": [],
   "source": [
    "cur.execute('Create table if not exists default_table \\\n",
    "    (Name varchar(20),\\\n",
    "        Class int default 12)')"
   ]
  },
  {
   "source": [
    "****"
   ],
   "cell_type": "markdown",
   "metadata": {}
  },
  {
   "source": [
    "<div><span style='color:orange;font-size:2em;'>Setting unique value constraint in table creation >>>"
   ],
   "cell_type": "markdown",
   "metadata": {}
  },
  {
   "source": [
    "****"
   ],
   "cell_type": "markdown",
   "metadata": {}
  },
  {
   "cell_type": "code",
   "execution_count": null,
   "metadata": {},
   "outputs": [],
   "source": [
    "cur.execute('Create table if not exists unique_table \\\n",
    "    (Name varchar(20) unique,\\\n",
    "        Class int)')"
   ]
  },
  {
   "source": [
    "****"
   ],
   "cell_type": "markdown",
   "metadata": {}
  },
  {
   "source": [
    "<div><span style='color:orange;font-size:2em;'>CHECK function during table creation>>>"
   ],
   "cell_type": "markdown",
   "metadata": {}
  },
  {
   "source": [
    "****"
   ],
   "cell_type": "markdown",
   "metadata": {}
  },
  {
   "source": [
    "cur.execute('Create table if not exists check_table \\\n",
    "    (Name varchar(20),\\\n",
    "        Class int check(Class>0 and Class<12))')"
   ],
   "cell_type": "code",
   "metadata": {},
   "execution_count": null,
   "outputs": []
  },
  {
   "source": [
    "****"
   ],
   "cell_type": "markdown",
   "metadata": {}
  },
  {
   "source": [
    "<div><span style='color:orange;font-size:2em;'>Setting primary key during table creation>>>"
   ],
   "cell_type": "markdown",
   "metadata": {}
  },
  {
   "source": [
    "****"
   ],
   "cell_type": "markdown",
   "metadata": {}
  },
  {
   "cell_type": "code",
   "execution_count": null,
   "metadata": {},
   "outputs": [],
   "source": [
    "cur.execute('Create table if not exists primary_table \\\n",
    "    (Name varchar(20) primary key,\\\n",
    "        Class int)')"
   ]
  },
  {
   "cell_type": "code",
   "execution_count": null,
   "metadata": {},
   "outputs": [],
   "source": [
    "cur.execute('Create table if not exists primary1_table \\\n",
    "    (Name varchar(20),\\\n",
    "        Class int)')\n",
    "\n",
    "cur.execute('alter table primary1_table \\\n",
    "    add primary key (Class)')"
   ]
  },
  {
   "source": [
    "****"
   ],
   "cell_type": "markdown",
   "metadata": {}
  },
  {
   "source": [
    "<div><span style='color:orange;font-size:2em;'>Inserting specific values from one table to another>>>"
   ],
   "cell_type": "markdown",
   "metadata": {}
  },
  {
   "cell_type": "code",
   "execution_count": null,
   "metadata": {},
   "outputs": [],
   "source": [
    "cur.execute(\"insert into primary_table \\\n",
    "    select * from sql_note where Name like 's%'\")\n",
    "con.commit()"
   ]
  },
  {
   "source": [
    "****"
   ],
   "cell_type": "markdown",
   "metadata": {}
  },
  {
   "source": [
    "<div><span style='color:orange;font-size:2em;'>Updating values of table>>>"
   ],
   "cell_type": "markdown",
   "metadata": {}
  },
  {
   "source": [
    "****"
   ],
   "cell_type": "markdown",
   "metadata": {}
  },
  {
   "cell_type": "code",
   "execution_count": null,
   "metadata": {},
   "outputs": [],
   "source": [
    "cur.execute(\"update primary_table\\\n",
    "    set Class=0 \\\n",
    "        where Name like '_____'\")\n",
    "\n",
    "con.commit()"
   ]
  },
  {
   "cell_type": "code",
   "execution_count": null,
   "metadata": {},
   "outputs": [],
   "source": [
    "cur.execute('select *from primary_table where Class=0')\n",
    "\n",
    "cur.fetchall()"
   ]
  },
  {
   "source": [
    "<div><span style='color:orange;font-size:2em;'>Deletion of rows in SQL >>>"
   ],
   "cell_type": "markdown",
   "metadata": {}
  },
  {
   "cell_type": "code",
   "execution_count": null,
   "metadata": {},
   "outputs": [],
   "source": [
    "cur.execute(\"delete from primary_table \\\n",
    "    where Class=0\")\n",
    "\n",
    "con.commit()"
   ]
  },
  {
   "source": [
    "****"
   ],
   "cell_type": "markdown",
   "metadata": {}
  },
  {
   "source": [
    "<div><span style='color:orange;font-size:2em;'>Altering tables >>></div></span><br><br>\n",
    "\n",
    "Used to:-<br>\n",
    "\n",
    "1)**Add a column**<br>2)**Add integrity constant**<br>3)**Redefine a column (datatype,size,default value)**"
   ],
   "cell_type": "markdown",
   "metadata": {}
  },
  {
   "source": [
    "****"
   ],
   "cell_type": "markdown",
   "metadata": {}
  },
  {
   "source": [
    "* <div><span style='color:orange;font-size:1.5em;'>Adding a column>>>"
   ],
   "cell_type": "markdown",
   "metadata": {}
  },
  {
   "source": [
    "****"
   ],
   "cell_type": "markdown",
   "metadata": {}
  },
  {
   "cell_type": "code",
   "execution_count": null,
   "metadata": {},
   "outputs": [],
   "source": [
    "cur.execute(\"alter table primary_table\\\n",
    "    add (Section varchar(2))\")\n",
    "\n",
    "con.commit()"
   ]
  },
  {
   "source": [
    "****"
   ],
   "cell_type": "markdown",
   "metadata": {}
  },
  {
   "source": [
    "* <div><span style='color:orange;font-size:1.5em;'>Modifying existing columns>>>"
   ],
   "cell_type": "markdown",
   "metadata": {}
  },
  {
   "source": [
    "****"
   ],
   "cell_type": "markdown",
   "metadata": {}
  },
  {
   "source": [
    "cur.execute(\"alter table primary_table \\\n",
    "    modify Name varchar(25)\")\n",
    "\n",
    "con.commit()"
   ],
   "cell_type": "code",
   "metadata": {},
   "execution_count": null,
   "outputs": []
  },
  {
   "source": [
    "****"
   ],
   "cell_type": "markdown",
   "metadata": {}
  },
  {
   "source": [
    "* <div><span style='color:orange;font-size:1.5em;'>Changing the names of column>>>"
   ],
   "cell_type": "markdown",
   "metadata": {}
  },
  {
   "source": [
    "****"
   ],
   "cell_type": "markdown",
   "metadata": {}
  },
  {
   "cell_type": "code",
   "execution_count": null,
   "metadata": {},
   "outputs": [],
   "source": [
    "cur.execute('alter table primary_table \\\n",
    "    change Section Sections varchar(3)')\n",
    "\n",
    "con.commit()"
   ]
  },
  {
   "source": [
    "****"
   ],
   "cell_type": "markdown",
   "metadata": {}
  },
  {
   "source": [
    "<div><span style='color:orange;font-size:2em;'>Dropping table>>>"
   ],
   "cell_type": "markdown",
   "metadata": {}
  },
  {
   "source": [
    "****"
   ],
   "cell_type": "markdown",
   "metadata": {}
  },
  {
   "cell_type": "code",
   "execution_count": null,
   "metadata": {},
   "outputs": [],
   "source": [
    "cur.execute('drop table if exists unique_table')\n",
    "\n",
    "con.commit()"
   ]
  },
  {
   "source": [
    "****"
   ],
   "cell_type": "markdown",
   "metadata": {}
  },
  {
   "source": [
    "<div><span style='color:orange;font-size:2em;'>Joining Tables>>>"
   ],
   "cell_type": "markdown",
   "metadata": {}
  },
  {
   "source": [
    "****"
   ],
   "cell_type": "markdown",
   "metadata": {}
  },
  {
   "source": [
    "<div><span style='color:orange;font-size:2em;'>Equi Join>>></div></span><br><br>\n",
    "This functions gives a table with a column value same in both and given 2 times in output table(unlike Natural join)"
   ],
   "cell_type": "markdown",
   "metadata": {}
  },
  {
   "source": [
    "****"
   ],
   "cell_type": "markdown",
   "metadata": {}
  },
  {
   "cell_type": "code",
   "execution_count": null,
   "metadata": {},
   "outputs": [],
   "source": [
    "cur.execute('select * from sql_note a,\\\n",
    "    primary_table b where a.Name=b.Name')#Used table aliases a,b\n",
    "\n",
    "cur.fetchall()"
   ]
  },
  {
   "source": [
    "****"
   ],
   "cell_type": "markdown",
   "metadata": {}
  },
  {
   "source": [
    "<div><span style='color:orange;font-size:2em;'>Natural Join>>></div></span><br><br>\n",
    "This function works same as equi join but the only diffrence is that ki it wont give 2 diffrent column of names with same values in it."
   ],
   "cell_type": "markdown",
   "metadata": {}
  },
  {
   "source": [
    "****"
   ],
   "cell_type": "markdown",
   "metadata": {}
  },
  {
   "cell_type": "code",
   "execution_count": null,
   "metadata": {},
   "outputs": [],
   "source": [
    "cur.execute('select * from sql_note natural join primary_table')\n",
    "\n",
    "cur.fetchall()"
   ]
  },
  {
   "source": [
    "****"
   ],
   "cell_type": "markdown",
   "metadata": {}
  },
  {
   "source": [
    "<div><span style='color:orange;font-size:2em;'>Ordering of table>>>"
   ],
   "cell_type": "markdown",
   "metadata": {}
  },
  {
   "source": [
    "****"
   ],
   "cell_type": "markdown",
   "metadata": {}
  },
  {
   "cell_type": "code",
   "execution_count": null,
   "metadata": {},
   "outputs": [],
   "source": [
    "cur.execute('select * from sql_note order by Class,Name')#First ordering by Class then by Name\n",
    "cur.fetchall()"
   ]
  },
  {
   "source": [
    "****"
   ],
   "cell_type": "markdown",
   "metadata": {}
  },
  {
   "source": [
    "<div><span style='color:orange;font-size:2em;'>Ordering on the basis of expression>>>"
   ],
   "cell_type": "markdown",
   "metadata": {}
  },
  {
   "source": [
    "****"
   ],
   "cell_type": "markdown",
   "metadata": {}
  },
  {
   "cell_type": "code",
   "execution_count": null,
   "metadata": {},
   "outputs": [],
   "source": [
    "cur.execute('select Name,Class+.16 from sql_note order by Class*.16')\n",
    "cur.fetchall()"
   ]
  },
  {
   "source": [
    "****"
   ],
   "cell_type": "markdown",
   "metadata": {}
  },
  {
   "source": [
    "<div><span style='color:orange;font-size:2em;'>Ordering by a field in custom way>>>"
   ],
   "cell_type": "markdown",
   "metadata": {}
  },
  {
   "source": [
    "****"
   ],
   "cell_type": "markdown",
   "metadata": {}
  },
  {
   "cell_type": "code",
   "execution_count": null,
   "metadata": {},
   "outputs": [],
   "source": [
    "cur.execute('select * from sql_note order by field(Class,10,11,12,1,2,3,4,5,6,7,8,9)')\n",
    "cur.fetchall()"
   ]
  },
  {
   "source": [
    "****"
   ],
   "cell_type": "markdown",
   "metadata": {}
  },
  {
   "source": [
    "<div><span style='color:orange;font-size:2em;'>Aggregate Functions</div></span><br><br>\n",
    "\n",
    "These are the functions which performs a calculation on a set of values, and returns a single value. Following fuctions come under this category:-<br><br>\n",
    "\n",
    "* AVG\n",
    "* COUNT\n",
    "* MAX\n",
    "* MIN\n",
    "* SUM"
   ],
   "cell_type": "markdown",
   "metadata": {}
  },
  {
   "source": [
    "****"
   ],
   "cell_type": "markdown",
   "metadata": {}
  },
  {
   "source": [
    "<div><span style='color:orange;font-size:2em;'>Average function>>>"
   ],
   "cell_type": "markdown",
   "metadata": {}
  },
  {
   "source": [
    "****"
   ],
   "cell_type": "markdown",
   "metadata": {}
  },
  {
   "cell_type": "code",
   "execution_count": null,
   "metadata": {},
   "outputs": [],
   "source": [
    "cur.execute('select avg(Class) \"Average Class\" from sql_note')\n",
    "cur.fetchall()"
   ]
  },
  {
   "source": [
    "****"
   ],
   "cell_type": "markdown",
   "metadata": {}
  },
  {
   "source": [
    "<div><span style='color:orange;font-size:2em;'>Count function>>>"
   ],
   "cell_type": "markdown",
   "metadata": {}
  },
  {
   "source": [
    "****"
   ],
   "cell_type": "markdown",
   "metadata": {}
  },
  {
   "cell_type": "code",
   "execution_count": null,
   "metadata": {},
   "outputs": [],
   "source": [
    "cur.execute(\"select count(Name) from sql_note where Class=12\")\n",
    "cur.fetchall()"
   ]
  },
  {
   "source": [
    "****"
   ],
   "cell_type": "markdown",
   "metadata": {}
  },
  {
   "source": [
    "<div><span style='color:orange;font-size:2em;'>Max function>>>"
   ],
   "cell_type": "markdown",
   "metadata": {}
  },
  {
   "source": [
    "****"
   ],
   "cell_type": "markdown",
   "metadata": {}
  },
  {
   "cell_type": "code",
   "execution_count": null,
   "metadata": {},
   "outputs": [],
   "source": [
    "cur.execute(\"select max(Class) 'Maximum' from sql_note where Name like 's%'\")\n",
    "cur.fetchall()"
   ]
  },
  {
   "source": [
    "****"
   ],
   "cell_type": "markdown",
   "metadata": {}
  },
  {
   "source": [
    "<div><span style='color:orange;font-size:2em;'>Sum fuction>>>"
   ],
   "cell_type": "markdown",
   "metadata": {}
  },
  {
   "source": [
    "****"
   ],
   "cell_type": "markdown",
   "metadata": {}
  },
  {
   "cell_type": "code",
   "execution_count": null,
   "metadata": {},
   "outputs": [],
   "source": [
    "cur.execute(\"select sum(Class) from sql_note\")\n",
    "cur.fetchall()"
   ]
  },
  {
   "source": [
    "****"
   ],
   "cell_type": "markdown",
   "metadata": {}
  },
  {
   "source": [
    "<div><span style='color:orange;font-size:2em;'>Group by SQL function>>></dev></span><br><br>\n",
    "\n",
    "The SQL GROUP BY clause is used in collaboration with the SELECT statement to arrange identical data into groups."
   ],
   "cell_type": "markdown",
   "metadata": {}
  },
  {
   "source": [
    "****"
   ],
   "cell_type": "markdown",
   "metadata": {}
  },
  {
   "cell_type": "code",
   "execution_count": null,
   "metadata": {},
   "outputs": [],
   "source": [
    "cur.execute(\"select * from sql_note group by Name\")\n",
    "cur.fetchall()"
   ]
  },
  {
   "source": [
    "****"
   ],
   "cell_type": "markdown",
   "metadata": {}
  },
  {
   "source": [
    "<div><span style='color:orange;font-size:2em;'>HAVING Function SQL>>></div></span><br>\n",
    "The HAVING clause was added to SQL because the WHERE keyword could not be used with aggregate functions.<br><br>\n",
    "\n",
    "<div><span style='color:gold;font-size:1.5em;'>Syntax>>></div></span><br>\n",
    "SELECT column_name(s)<br>\n",
    "FROM table_name<br>\n",
    "WHERE condition<br>\n",
    "GROUP BY column_name(s)<br>\n",
    "HAVING condition<br>\n",
    "ORDER BY column_name(s);<br>\n"
   ],
   "cell_type": "markdown",
   "metadata": {}
  },
  {
   "source": [
    "****"
   ],
   "cell_type": "markdown",
   "metadata": {}
  },
  {
   "cell_type": "code",
   "execution_count": null,
   "metadata": {},
   "outputs": [],
   "source": [
    "cur.execute(\"select * from sql_note group by Class having count(*)>10\")\n",
    "\n",
    "cur.fetchall()"
   ]
  },
  {
   "source": [
    "![Namaste](https://img.etimg.com/thumb/msid-79427694,width-1200,height-900/news/politics-and-nation/pm-modi-pays-tribute-to-victims-of-26/11-mumbai-terror-attacks.jpg)"
   ],
   "cell_type": "markdown",
   "metadata": {}
  },
  {
   "source": [
    "****\n",
    "****"
   ],
   "cell_type": "markdown",
   "metadata": {}
  }
 ]
}